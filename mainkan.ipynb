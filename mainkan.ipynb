{
 "cells": [
  {
   "cell_type": "code",
   "execution_count": 1,
   "metadata": {},
   "outputs": [],
   "source": [
    "import argparse \n",
    "import os\n",
    "import warnings\n",
    "import numpy as np\n",
    "#from utils.functions import model_select\n",
    "from data.GenerateData_fun import DataSet\n",
    "import torch\n",
    "import yaml\n",
    "from utils.utils import set_seed\n",
    "import torch.utils.data as tud\n",
    "from torch.utils.data import TensorDataset\n",
    "from model.net import net_select\n",
    "from model.test_fun import Gaussian"
   ]
  },
  {
   "cell_type": "code",
   "execution_count": 2,
   "metadata": {},
   "outputs": [],
   "source": [
    "from utils.getconfig import getcfg\n",
    "warnings.filterwarnings(\"ignore\")\n",
    "parser = argparse.ArgumentParser('Training of the Architectures', add_help=True)\n",
    "parser.add_argument('-c','--config_file', type=str, \n",
    "                            help='Path to the configuration file',\n",
    "                            default='/home/ubuntu/myproject/wcr_neural/config/config_1D.yaml')\n",
    "args=parser.parse_args(args=[])\n",
    "config_file = args.config_file"
   ]
  },
  {
   "cell_type": "code",
   "execution_count": 3,
   "metadata": {},
   "outputs": [
    {
     "name": "stdout",
     "output_type": "stream",
     "text": [
      "{'dim': 1, 'width': 100, 'depth': 5, 'activation': 'GeLU', 'lr': 0.01, 'gamma': 0.5, 'step_size': 5, 'weight_decay': 1e-05, 'iter': 2000, 'mode': 'KAN', 'kanwidth': [1, 2, 1]}\n"
     ]
    }
   ],
   "source": [
    "torch.set_float32_matmul_precision(\"medium\")\n",
    "with open(config_file, 'r') as stream:\n",
    "    config = yaml.load(stream, yaml.FullLoader)\n",
    "cfg_train = config['train']\n",
    "cfg_data = config['data']\n",
    "cfg_nn = config['NN']\n",
    "print(cfg_nn)\n",
    "c_proj = config['Project']\n",
    "device = config['device']\n",
    "set_seed(config['seed'])\n",
    "# get definition of sde\n"
   ]
  },
  {
   "cell_type": "code",
   "execution_count": 4,
   "metadata": {},
   "outputs": [],
   "source": [
    "def model_select(model):\n",
    "    if model == 'pdcd':\n",
    "        drift = lambda x: x - x ** 3\n",
    "        diffusion = diffusion_constant\n",
    "    return drift, diffusion\n",
    "\n",
    "def diffusion_constant(x):\n",
    "    '''\n",
    "    n,1\n",
    "    '''\n",
    "    diag = torch.eye(x.shape[1]).to(device)\n",
    "    return diag.unsqueeze(0).repeat(x.shape[0],1,1)\n",
    "drift,diffusion = model_select(cfg_data['model'])"
   ]
  },
  {
   "cell_type": "code",
   "execution_count": 5,
   "metadata": {},
   "outputs": [
    {
     "data": {
      "image/png": "[encoded data removed]",
      "text/plain": [
       "<Figure size 640x480 with 1 Axes>"
      ]
     },
     "metadata": {},
     "output_type": "display_data"
    }
   ],
   "source": [
    "# generate dataset   \n",
    "dt = cfg_data['dt'] # 生成数据的dt\n",
    "t = torch.linspace(0,cfg_data['T'],cfg_data['nt']).to(device)# 生成数据的时间轴\n",
    "dim = cfg_data['dim'] #问题维数\n",
    "samples = cfg_data['sample'] #生成轨道数量\n",
    "dataset = DataSet(t, dt=dt, samples_num=samples, dim=dim, drift_fun=drift, diffusion_fun=diffusion,\n",
    "                    initialization=torch.normal(mean=0., std=cfg_train['sigma_init'], size=(samples, dim)),device = device)\n",
    "data = dataset.get_data(plot_hist=True) # t, sample_num ,dim\n"
   ]
  },
  {
   "cell_type": "code",
   "execution_count": 6,
   "metadata": {},
   "outputs": [],
   "source": [
    "# get NN\n",
    "testFunc = Gaussian\n",
    "net_drift , net_diffusion = net_select(cfg_nn,device)"
   ]
  },
  {
   "cell_type": "code",
   "execution_count": 7,
   "metadata": {},
   "outputs": [],
   "source": [
    "from model.modelkan import KANModel\n",
    "from model.model import Model\n",
    "import torch.nn as nn\n",
    "import pytorch_lightning as pl\n",
    "from torch import optim\n",
    "from kan import KAN, LBFGS"
   ]
  },
  {
   "cell_type": "code",
   "execution_count": 8,
   "metadata": {},
   "outputs": [
    {
     "name": "stdout",
     "output_type": "stream",
     "text": [
      "'sampleTestFunc_all' took 0.023873 s\n",
      "\n"
     ]
    }
   ],
   "source": [
    "match cfg_nn['mode']:\n",
    "        case 'KAN':\n",
    "                model = KANModel(t = t, \n",
    "                        data = data, \n",
    "                        testFunc = testFunc, \n",
    "                        drift = drift, \n",
    "                        diffusion = diffusion, \n",
    "                        net_drift = net_drift,\n",
    "                        net_diffusion = net_diffusion,  \n",
    "                        cfg_train = cfg_train, \n",
    "                        cfg_nn = cfg_nn, \n",
    "                        device = data.device)\n",
    "        case 'DNN':\n",
    "                model = Model(t = t, \n",
    "                        data = data, \n",
    "                        testFunc = testFunc, \n",
    "                        drift = drift, \n",
    "                        diffusion = diffusion, \n",
    "                        net_drift = net_drift,\n",
    "                        net_diffusion = net_diffusion,  \n",
    "                        cfg_train = cfg_train, \n",
    "                        cfg_nn = cfg_nn, \n",
    "                        device = data.device)\n",
    "#print(model)"
   ]
  },
  {
   "cell_type": "code",
   "execution_count": 9,
   "metadata": {},
   "outputs": [],
   "source": [
    "optimizer1 = LBFGS(model.net_drift.parameters(), lr=1, max_iter= 5, history_size=10, line_search_fn=\"strong_wolfe\", tolerance_grad=1e-7, tolerance_change=1e-7, tolerance_ys=1e-7)\n",
    "optimizer2 = optim.AdamW(model.net_diffusion.parameters(), lr=cfg_nn[\"lr\"], weight_decay=cfg_nn[\"weight_decay\"])\n",
    "optimizer = LBFGS(model.parameters(), lr=1, history_size=10, line_search_fn=\"strong_wolfe\", tolerance_grad=1e-2, tolerance_change=1e-2, tolerance_ys=1e-2)"
   ]
  },
  {
   "cell_type": "code",
   "execution_count": 10,
   "metadata": {},
   "outputs": [
    {
     "name": "stderr",
     "output_type": "stream",
     "text": [
      "description:   0%|          | 0/5 [00:00<?, ?it/s]"
     ]
    }
   ],
   "source": [
    "from tqdm import tqdm\n",
    "pbar = tqdm(range(cfg_nn['step_size']), desc='description')"
   ]
  },
  {
   "cell_type": "code",
   "execution_count": 11,
   "metadata": {},
   "outputs": [],
   "source": [
    "import time \n",
    "t0=time.time()"
   ]
  },
  {
   "cell_type": "code",
   "execution_count": 12,
   "metadata": {},
   "outputs": [],
   "source": [
    "def closure():\n",
    "    loss = torch.sum(model.compute_loss(data) ** 2)\n",
    "    t1 = time.time()\n",
    "    print(t1-t0)\n",
    "    loss.backward()\n",
    "    t1 = time.time()\n",
    "    print(t1-t0)\n",
    "    print(loss.detach().cpu().numpy())\n",
    "    return loss"
   ]
  },
  {
   "cell_type": "code",
   "execution_count": null,
   "metadata": {},
   "outputs": [],
   "source": [
    "xx = torch.linspace(-2,2,41).unsqueeze(1).to(device)\n",
    "for _ in pbar:\n",
    "    l2_drift = torch.mean((model.net_drift(xx)-drift(xx))**2).cpu().detach().numpy()\n",
    "    l2_diffusion = torch.mean((model.net_diffusion(xx)-diffusion(xx))**2).cpu().detach().numpy()\n",
    "    #pbar.set_description(\"l2_drift:{},l2_diffusion:{}\".format(l2_drift,l2_diffusion))\n",
    "    print(\"l2_drift:{},l2_diffusion:{}\".format(l2_drift,l2_diffusion))\n",
    "    optimizer1.step(closure)\n",
    "    optimizer2.step()"
   ]
  },
  {
   "cell_type": "code",
   "execution_count": 14,
   "metadata": {},
   "outputs": [
    {
     "name": "stdout",
     "output_type": "stream",
     "text": [
      "l2_drift:7.9160475730896,l2_diffusion:0.7100162506103516\n"
     ]
    }
   ],
   "source": [
    "l2_drift = torch.mean((model.net_drift(xx)-drift(xx))**2).cpu().detach().numpy()\n",
    "l2_diffusion = torch.mean((model.net_diffusion(xx)-diffusion(xx))**2).cpu().detach().numpy()\n",
    "#pbar.set_description(\"l2_drift:{},l2_diffusion:{}\".format(l2_drift,l2_diffusion))\n",
    "print(\"l2_drift:{},l2_diffusion:{}\".format(l2_drift,l2_diffusion))"
   ]
  }
 ],
 "metadata": {
  "kernelspec": {
   "display_name": "Python 3.10.10 ('base')",
   "language": "python",
   "name": "python3"
  },
  "language_info": {
   "codemirror_mode": {
    "name": "ipython",
    "version": 3
   },
   "file_extension": ".py",
   "mimetype": "text/x-python",
   "name": "python",
   "nbconvert_exporter": "python",
   "pygments_lexer": "ipython3",
   "version": "3.10.10"
  },
  "orig_nbformat": 4,
  "vscode": {
   "interpreter": {
    "hash": "3d597f4c481aa0f25dceb95d2a0067e73c0966dcbd003d741d821a7208527ecf"
   }
  }
 },
 "nbformat": 4,
 "nbformat_minor": 2
}
